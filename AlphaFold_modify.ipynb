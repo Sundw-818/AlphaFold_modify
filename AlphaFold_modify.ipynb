{
  "nbformat": 4,
  "nbformat_minor": 0,
  "metadata": {
    "colab": {
      "name": "AlphaFold_modify",
      "provenance": [],
      "authorship_tag": "ABX9TyOg5R6Jm8ODC2YuFbdELVy0",
      "include_colab_link": true
    },
    "kernelspec": {
      "name": "python3",
      "display_name": "Python 3"
    },
    "language_info": {
      "name": "python"
    }
  },
  "cells": [
    {
      "cell_type": "markdown",
      "metadata": {
        "id": "view-in-github",
        "colab_type": "text"
      },
      "source": [
        "<a href=\"https://colab.research.google.com/github/Sundw-818/AlphaFold_modify/blob/main/AlphaFold_modify.ipynb\" target=\"_parent\"><img src=\"https://colab.research.google.com/assets/colab-badge.svg\" alt=\"Open In Colab\"/></a>"
      ]
    },
    {
      "cell_type": "code",
      "execution_count": 1,
      "metadata": {
        "colab": {
          "base_uri": "https://localhost:8080/"
        },
        "id": "m-Yx4o6nkI7D",
        "outputId": "bb0b41b4-1e7b-433b-ba78-dbf80f9c249e"
      },
      "outputs": [
        {
          "output_type": "stream",
          "name": "stdout",
          "text": [
            "Archive:  ColabFold-.zip\n",
            "   creating: colabfold/\n",
            " extracting: colabfold/citations.py  \n",
            " extracting: colabfold/colabfold_alphafold.py  \n",
            "   creating: colabfold/alphafold/\n",
            " extracting: colabfold/alphafold/msa.py  \n",
            " extracting: colabfold/batch.py      \n",
            " extracting: colabfold/download.py   \n",
            "   creating: colabfold/mmseqs/\n",
            " extracting: colabfold/mmseqs/search.py  \n",
            " extracting: colabfold/mmseqs/merge_and_split_msas.py  \n",
            " extracting: colabfold/colabfold.py  \n",
            " extracting: colabfold/utils.py      \n",
            " extracting: colabfold/mmseqs/split_msas.py  \n",
            " extracting: colabfold/pdb.py        \n",
            " extracting: colabfold/alphafold/models.py  \n",
            " extracting: colabfold/__init__.py   \n",
            " extracting: colabfold/alphafold/__init__.py  \n",
            " extracting: colabfold/mmseqs/__init__.py  \n",
            " extracting: colabfold/plot.py       \n"
          ]
        }
      ],
      "source": [
        "!unzip ColabFold-.zip"
      ]
    },
    {
      "cell_type": "code",
      "source": [
        ""
      ],
      "metadata": {
        "id": "-At5R_L3oFuj"
      },
      "execution_count": null,
      "outputs": []
    }
  ]
}